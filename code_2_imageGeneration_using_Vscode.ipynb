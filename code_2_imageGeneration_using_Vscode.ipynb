{
 "cells": [
  {
   "cell_type": "markdown",
   "metadata": {},
   "source": [
    "# Importing libraries"
   ]
  },
  {
   "cell_type": "code",
   "execution_count": 24,
   "metadata": {},
   "outputs": [
    {
     "name": "stdout",
     "output_type": "stream",
     "text": [
      "Generated Image is Stored Successfully at: D:\\AWS-AI\\Generate and evaluate images in Amazon Bedrock\\9fa960a0-7cde-4806-82f0-98b45c11c937.png\n"
     ]
    }
   ],
   "source": [
    "import boto3\n",
    "import json\n",
    "import base64\n",
    "import io\n",
    "import uuid\n",
    "import os\n",
    "from PIL import Image\n",
    "\n",
    "# Set up the Amazon Bedrock client\n",
    "bedrock_client = boto3.client(\n",
    "    service_name=\"bedrock-runtime\",\n",
    "    region_name=\"us-east-1\"\n",
    ")\n",
    "\n",
    "# Define the model ID\n",
    "model_id = \"amazon.nova-canvas-v1:0\"\n",
    "\n",
    "# Prepare the input prompt\n",
    "prompt = \"create me an image of a lantern festival sky\"\n",
    "\n",
    "# Create the request payload\n",
    "body = json.dumps({\n",
    "        \"taskType\": \"TEXT_IMAGE\",\n",
    "        \"textToImageParams\": {\n",
    "            \"text\": prompt\n",
    "        },\n",
    "        \"imageGenerationConfig\": {\n",
    "            \"numberOfImages\": 1,\n",
    "            \"height\": 1024,\n",
    "            \"width\": 1024,\n",
    "            \"cfgScale\": 8.0,\n",
    "            \"seed\": 0\n",
    "        }\n",
    "    })\n",
    "\n",
    "accept = \"application/json\"\n",
    "content_type = \"application/json\"\n",
    "\n",
    "# Invoke the Amazon Bedrock model\n",
    "response = bedrock_client.invoke_model(\n",
    "    modelId=model_id,\n",
    "    body=body,\n",
    "    accept=accept, \n",
    "    contentType=content_type\n",
    ")\n",
    "\n",
    "# Process the response\n",
    "result = json.loads(response[\"body\"].read())\n",
    "\n",
    "base64_image = result.get(\"images\")[0]\n",
    "base64_bytes = base64_image.encode('ascii')\n",
    "image_bytes = base64.b64decode(base64_bytes)\n",
    "\n",
    "image = Image.open(io.BytesIO(image_bytes))\n",
    "image.show()\n",
    "\n",
    "# Generate unique filename\n",
    "unique_id = uuid.uuid4()\n",
    "\n",
    "# Define the file save path correctly\n",
    "save_directory = r\"D:\\AWS-AI\\Generate and evaluate images in Amazon Bedrock\"\n",
    "save_path = os.path.join(save_directory, f\"{unique_id}.png\")\n",
    "\n",
    "# Save the image\n",
    "image.save(save_path)\n",
    "\n",
    "print(f\"Generated Image is Stored Successfully at: {save_path}\")"
   ]
  }
 ],
 "metadata": {
  "kernelspec": {
   "display_name": "base",
   "language": "python",
   "name": "python3"
  },
  "language_info": {
   "codemirror_mode": {
    "name": "ipython",
    "version": 3
   },
   "file_extension": ".py",
   "mimetype": "text/x-python",
   "name": "python",
   "nbconvert_exporter": "python",
   "pygments_lexer": "ipython3",
   "version": "3.12.7"
  }
 },
 "nbformat": 4,
 "nbformat_minor": 2
}
